{
 "cells": [
  {
   "cell_type": "markdown",
   "metadata": {
    "collapsed": true
   },
   "source": [
    "# shippio OCR\n",
    "## やること\n",
    "- フォーマット判別\n",
    "- OCR API比較\n",
    " - GCP（GCP, AWS, Azureの中で唯一OCRを提供)\n",
    " - Herokuで見つけたOCRestfulは精度が悪い\n",
    " - 自社API(tensorflowを用いる)\n",
    "- "
   ]
  },
  {
   "cell_type": "markdown",
   "metadata": {},
   "source": [
    "## 使用する環境\n",
    "- python 2.7\n",
    "- tensorflow\n",
    "- cv2(←openCV3です)"
   ]
  },
  {
   "cell_type": "code",
   "execution_count": 1,
   "metadata": {
    "collapsed": false,
    "slideshow": {
     "slide_type": "-"
    }
   },
   "outputs": [],
   "source": [
    "import tensorflow\n",
    "import cv2\n"
   ]
  },
  {
   "cell_type": "markdown",
   "metadata": {},
   "source": [
    "## GCP OCRにクエリを投げてみる\n"
   ]
  },
  {
   "cell_type": "code",
   "execution_count": 7,
   "metadata": {
    "collapsed": false
   },
   "outputs": [],
   "source": [
    "import requests\n",
    "import json\n",
    "\n",
    "def GCP(img):\n",
    "    api_key = \"\"\n",
    "    url = \"https://vision.googleapis.com/v1/images:annotate?key=\" + api_key\n",
    "\n",
    "    d = {\n",
    "      \"requests\":[\n",
    "        {\n",
    "          \"image\":{\n",
    "            \"source\":{\n",
    "              \"imageUri\":\n",
    "                img\n",
    "            }\n",
    "          },\n",
    "          \"features\":[\n",
    "            {\n",
    "              \"type\":\"TEXT_DETECTION\",\n",
    "              \"maxResults\":1\n",
    "            }\n",
    "          ]\n",
    "        }\n",
    "      ]\n",
    "    }\n",
    "    r = requests.post(url, json=d)\n",
    "\n",
    "    data=json.loads(r.text)\n",
    "\n",
    "    #print json.dumps(data, indent=2)\n",
    "    \n",
    "    return data[\"responses\"][0][\"textAnnotations\"][0][\"description\"]"
   ]
  },
  {
   "cell_type": "code",
   "execution_count": 8,
   "metadata": {
    "collapsed": false
   },
   "outputs": [
    {
     "name": "stdout",
     "output_type": "stream",
     "text": [
      "3441025302186286\n",
      "\n"
     ]
    },
    {
     "data": {
      "text/html": [
       "<img src=\"http://hajimek.com/export_serial.png\"/>"
      ],
      "text/plain": [
       "<IPython.core.display.Image object>"
      ]
     },
     "execution_count": 8,
     "metadata": {},
     "output_type": "execute_result"
    }
   ],
   "source": [
    "from IPython.display import Image\n",
    "from IPython.core.display import HTML \n",
    "\n",
    "img = \"http://hajimek.com/export_serial.png\"\n",
    "\n",
    "result = GCP(img)\n",
    "\n",
    "print result\n",
    "\n",
    "Image(url=img)"
   ]
  },
  {
   "cell_type": "code",
   "execution_count": 9,
   "metadata": {
    "collapsed": false
   },
   "outputs": [
    {
     "name": "stdout",
     "output_type": "stream",
     "text": [
      "NZ'I 2-6 Onl |||310 irdi2.6 5.8\n",
      "\n"
     ]
    },
    {
     "data": {
      "text/html": [
       "<img src=\"http://hajimek.com/maker_serial.png\"/>"
      ],
      "text/plain": [
       "<IPython.core.display.Image object>"
      ]
     },
     "execution_count": 9,
     "metadata": {},
     "output_type": "execute_result"
    }
   ],
   "source": [
    "img = \"http://hajimek.com/maker_serial.png\"\n",
    "\n",
    "result = GCP(img)\n",
    "\n",
    "print result\n",
    "\n",
    "Image(url=img)"
   ]
  },
  {
   "cell_type": "code",
   "execution_count": 10,
   "metadata": {
    "collapsed": false
   },
   "outputs": [
    {
     "name": "stdout",
     "output_type": "stream",
     "text": [
      "NZT-2.60-indai:0:4:2658\n",
      "\n"
     ]
    },
    {
     "data": {
      "text/html": [
       "<img src=\"http://hajimek.com/monochrome.png\"/>"
      ],
      "text/plain": [
       "<IPython.core.display.Image object>"
      ]
     },
     "execution_count": 10,
     "metadata": {},
     "output_type": "execute_result"
    }
   ],
   "source": [
    "img = \"http://hajimek.com/monochrome.png\"\n",
    "\n",
    "result = GCP(img)\n",
    "\n",
    "print result\n",
    "\n",
    "Image(url=img)"
   ]
  },
  {
   "cell_type": "markdown",
   "metadata": {
    "collapsed": true
   },
   "source": [
    "# OCRest\n",
    "## 下記を実行したところ\n",
    "`curl -X POST --data-binary @/Users/hajimex/Documents/circlein/ocr/data/OCR_pic/XXXXX.png -H \"secret:\" -H \"content-type:image/png\" https://api.ocrestful.com/henam/res `\n",
    "\n",
    "## 結果は\n",
    "透かしなしの場合、confidenceは83%で、かつ3441025302186286\n",
    "透かしありの場合、最後の”８”だけ精度が高かった\n",
    "\n",
    "## 考察\n",
    "精度は通常の画像は、GCPと同じ程度の精度が出ている。かつ、confidenceが出るのは良い。\n",
    "ノイズに対してはGCPよりは弱い。"
   ]
  },
  {
   "cell_type": "code",
   "execution_count": null,
   "metadata": {
    "collapsed": true
   },
   "outputs": [],
   "source": []
  }
 ],
 "metadata": {
  "celltoolbar": "Slideshow",
  "kernelspec": {
   "display_name": "Python 2",
   "language": "python",
   "name": "python2"
  },
  "language_info": {
   "codemirror_mode": {
    "name": "ipython",
    "version": 2
   },
   "file_extension": ".py",
   "mimetype": "text/x-python",
   "name": "python",
   "nbconvert_exporter": "python",
   "pygments_lexer": "ipython2",
   "version": "2.7.11"
  }
 },
 "nbformat": 4,
 "nbformat_minor": 2
}
